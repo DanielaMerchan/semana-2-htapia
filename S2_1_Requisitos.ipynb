{
 "cells": [
  {
   "cell_type": "markdown",
   "metadata": {
    "slideshow": {
     "slide_type": "slide"
    }
   },
   "source": [
    "Computo de alto desempeño\n",
    "======================\n",
    "\n",
    "Semana 2\n",
    "Mayo 10, 2017\n",
    "\n",
    "**Horacio Tapia** \n",
    "(htapia@lania.edu.mx)\n",
    "\n",
    "LANIA-MCA, 2017"
   ]
  },
  {
   "cell_type": "markdown",
   "metadata": {
    "slideshow": {
     "slide_type": "slide"
    }
   },
   "source": [
    "# Semana 2: Configurando sistemas 1\n",
    "\n",
    "## Objetivos\n",
    "Configurar el software que estaremos usando a lo largo del curso para desarrollar aplicaciones de computo paralelo"
   ]
  },
  {
   "cell_type": "markdown",
   "metadata": {
    "slideshow": {
     "slide_type": "subslide"
    }
   },
   "source": [
    "## Requisitos\n",
    "* [Descargar Python](https://www.continuum.io/downloads \"Anaconda\")\n",
    "* Instalar ipyparallel escribiendo `conda install ipyparallel` en la linea de comando\n",
    "* Habilitar la pestana de IPython Clusters en las libretas ejecutando `ipcluster nbextension enable` desde la linea de comando\n",
    "* Iniciar las libretas ejecutando el comando `jupyter-notebook` en la linea de comand (\\*nix) o desde la aplicacion de anaconda (Mac y Windows).\n",
    "* Checar el ecosistema ejecutando la siguiente celda:"
   ]
  },
  {
   "cell_type": "markdown",
   "metadata": {
    "collapsed": true,
    "slideshow": {
     "slide_type": "fragment"
    }
   },
   "source": [
    "## Recursos\n",
    "* [Documentacion jupyter](http://jupyter-notebook-beginner-guide.readthedocs.io/en/latest/)\n",
    "* [Documentacion ipyparallel](https://github.com/ipython/ipyparallel)"
   ]
  },
  {
   "cell_type": "code",
   "execution_count": 1,
   "metadata": {
    "collapsed": false,
    "slideshow": {
     "slide_type": "slide"
    }
   },
   "outputs": [
    {
     "name": "stdout",
     "output_type": "stream",
     "text": [
      "1.11.1\n",
      "0.18.1\n",
      "2.0.0\n",
      "6.0.1\n"
     ]
    }
   ],
   "source": [
    "import numpy as np\n",
    "print np.__version__\n",
    "\n",
    "import pandas as pd\n",
    "print pd.__version__\n",
    "\n",
    "import matplotlib as plt\n",
    "print plt.__version__\n",
    "\n",
    "import ipyparallel as ipp\n",
    "print ipp.__version__"
   ]
  }
 ],
 "metadata": {
  "anaconda-cloud": {},
  "kernelspec": {
   "display_name": "Python [default]",
   "language": "python",
   "name": "python2"
  },
  "language_info": {
   "codemirror_mode": {
    "name": "ipython",
    "version": 2
   },
   "file_extension": ".py",
   "mimetype": "text/x-python",
   "name": "python",
   "nbconvert_exporter": "python",
   "pygments_lexer": "ipython2",
   "version": "2.7.12"
  }
 },
 "nbformat": 4,
 "nbformat_minor": 0
}
