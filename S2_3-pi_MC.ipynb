{
 "cells": [
  {
   "cell_type": "markdown",
   "metadata": {
    "slideshow": {
     "slide_type": "slide"
    }
   },
   "source": [
    "Computo de alto desempeño\n",
    "======================\n",
    "\n",
    "Semana 2\n",
    "Mayo 10, 2017\n",
    "\n",
    "**Horacio Tapia** \n",
    "(htapia@lania.edu.mx)\n",
    "\n",
    "LANIA-MCA, 2017"
   ]
  },
  {
   "cell_type": "markdown",
   "metadata": {
    "slideshow": {
     "slide_type": "slide"
    }
   },
   "source": [
    "## Aproximando $\\pi$ usando Monte Carlo"
   ]
  },
  {
   "cell_type": "code",
   "execution_count": 12,
   "metadata": {
    "collapsed": false,
    "slideshow": {
     "slide_type": "fragment"
    }
   },
   "outputs": [],
   "source": [
    "import numpy as np"
   ]
  },
  {
   "cell_type": "code",
   "execution_count": 14,
   "metadata": {
    "collapsed": false,
    "slideshow": {
     "slide_type": "fragment"
    }
   },
   "outputs": [
    {
     "data": {
      "text/plain": [
       "3.141592653589793"
      ]
     },
     "execution_count": 14,
     "metadata": {},
     "output_type": "execute_result"
    }
   ],
   "source": [
    "np.pi"
   ]
  },
  {
   "cell_type": "markdown",
   "metadata": {
    "slideshow": {
     "slide_type": "slide"
    }
   },
   "source": [
    "# Primeros pasos\n",
    "Primero debemos importar el modulo y crear una instancia `Client`:"
   ]
  },
  {
   "cell_type": "code",
   "execution_count": 8,
   "metadata": {
    "collapsed": true,
    "slideshow": {
     "slide_type": "fragment"
    }
   },
   "outputs": [],
   "source": [
    "import ipyparallel as ipp\n",
    "c = ipp.Client()"
   ]
  },
  {
   "cell_type": "markdown",
   "metadata": {
    "slideshow": {
     "slide_type": "subslide"
    }
   },
   "source": [
    "## Motores conectados al controlador \n",
    "Podemos ver la lista de ids de los motores disponibles. Esta debe coincidir con el numero especificado en la pestana. "
   ]
  },
  {
   "cell_type": "code",
   "execution_count": 9,
   "metadata": {
    "collapsed": false,
    "slideshow": {
     "slide_type": "fragment"
    }
   },
   "outputs": [
    {
     "data": {
      "text/plain": [
       "[0, 1, 2, 3]"
      ]
     },
     "execution_count": 9,
     "metadata": {},
     "output_type": "execute_result"
    }
   ],
   "source": [
    "c.ids"
   ]
  },
  {
   "cell_type": "code",
   "execution_count": 10,
   "metadata": {
    "collapsed": true,
    "slideshow": {
     "slide_type": "fragment"
    }
   },
   "outputs": [],
   "source": [
    "dview = c.direct_view() # es equivalente a dview = c[:]"
   ]
  },
  {
   "cell_type": "markdown",
   "metadata": {
    "slideshow": {
     "slide_type": "slide"
    }
   },
   "source": [
    "### Funcion para aproximar $\\pi$ (Monte Carlo)"
   ]
  },
  {
   "cell_type": "code",
   "execution_count": 16,
   "metadata": {
    "collapsed": false,
    "slideshow": {
     "slide_type": "fragment"
    }
   },
   "outputs": [],
   "source": [
    "def mc_pi(n):\n",
    "    count = 0.\n",
    "    for i in range(n):\n",
    "        x = np.random.random()\n",
    "        y = np.random.random()\n",
    "        if (x**2+y**2)<=1:\n",
    "            count += 1\n",
    "    return count/n"
   ]
  },
  {
   "cell_type": "code",
   "execution_count": 17,
   "metadata": {
    "collapsed": false,
    "slideshow": {
     "slide_type": "fragment"
    }
   },
   "outputs": [
    {
     "name": "stdout",
     "output_type": "stream",
     "text": [
      "3.13832\n",
      "3.142812\n",
      "3.141136\n",
      "1 loop, best of 3: 744 ms per loop\n"
     ]
    }
   ],
   "source": [
    "%%timeit -n1\n",
    "est_pi = mc_pi(10**6)\n",
    "print 4*est_pi"
   ]
  },
  {
   "cell_type": "markdown",
   "metadata": {
    "slideshow": {
     "slide_type": "slide"
    }
   },
   "source": [
    "Tratemos de paralelizarlo directamete usando `map_sync`"
   ]
  },
  {
   "cell_type": "code",
   "execution_count": 20,
   "metadata": {
    "collapsed": false,
    "slideshow": {
     "slide_type": "fragment"
    }
   },
   "outputs": [
    {
     "ename": "CompositeError",
     "evalue": "one or more exceptions from call to method: mc_pi\n[Engine Exception]NameError: global name 'np' is not defined\n[Engine Exception]NameError: global name 'np' is not defined\n[Engine Exception]NameError: global name 'np' is not defined\n[Engine Exception]NameError: global name 'np' is not defined",
     "output_type": "error",
     "traceback": [
      "[Engine Exception]",
      "\u001b[0;31m\u001b[0m\u001b[0;31mNameError\u001b[0mTraceback (most recent call last)\u001b[0;32m<string>\u001b[0m in \u001b[0;36m<module>\u001b[0;34m()\u001b[0m",
      "\u001b[0;32m<ipython-input-16-98cb05526b36>\u001b[0m in \u001b[0;36mmc_pi\u001b[0;34m(n)\u001b[0m",
      "\u001b[0;31mNameError\u001b[0m: global name 'np' is not defined",
      "",
      "[Engine Exception]",
      "\u001b[0;31m\u001b[0m\u001b[0;31mNameError\u001b[0mTraceback (most recent call last)\u001b[0;32m<string>\u001b[0m in \u001b[0;36m<module>\u001b[0;34m()\u001b[0m",
      "\u001b[0;32m<ipython-input-16-98cb05526b36>\u001b[0m in \u001b[0;36mmc_pi\u001b[0;34m(n)\u001b[0m",
      "\u001b[0;31mNameError\u001b[0m: global name 'np' is not defined",
      "",
      "[Engine Exception]",
      "\u001b[0;31m\u001b[0m\u001b[0;31mNameError\u001b[0mTraceback (most recent call last)\u001b[0;32m<string>\u001b[0m in \u001b[0;36m<module>\u001b[0;34m()\u001b[0m",
      "\u001b[0;32m<ipython-input-16-98cb05526b36>\u001b[0m in \u001b[0;36mmc_pi\u001b[0;34m(n)\u001b[0m",
      "\u001b[0;31mNameError\u001b[0m: global name 'np' is not defined",
      "",
      "[Engine Exception]",
      "\u001b[0;31m\u001b[0m\u001b[0;31mNameError\u001b[0mTraceback (most recent call last)\u001b[0;32m<string>\u001b[0m in \u001b[0;36m<module>\u001b[0;34m()\u001b[0m",
      "\u001b[0;32m<ipython-input-16-98cb05526b36>\u001b[0m in \u001b[0;36mmc_pi\u001b[0;34m(n)\u001b[0m",
      "\u001b[0;31mNameError\u001b[0m: global name 'np' is not defined",
      ""
     ]
    }
   ],
   "source": [
    "dview.map_sync(mc_pi,[250000]*4)"
   ]
  },
  {
   "cell_type": "markdown",
   "metadata": {
    "slideshow": {
     "slide_type": "subslide"
    }
   },
   "source": [
    "El error indica que `np` no esta definido. Sin embargo el modulo esta cargado en la sesion principal (el controlador):"
   ]
  },
  {
   "cell_type": "code",
   "execution_count": 15,
   "metadata": {
    "collapsed": false,
    "slideshow": {
     "slide_type": "fragment"
    }
   },
   "outputs": [
    {
     "data": {
      "text/plain": [
       "array([0, 1, 2, 3, 4, 5, 6, 7, 8, 9])"
      ]
     },
     "execution_count": 15,
     "metadata": {},
     "output_type": "execute_result"
    }
   ],
   "source": [
    "np.arange(10)"
   ]
  },
  {
   "cell_type": "markdown",
   "metadata": {
    "slideshow": {
     "slide_type": "subslide"
    }
   },
   "source": [
    "?????"
   ]
  },
  {
   "cell_type": "markdown",
   "metadata": {
    "slideshow": {
     "slide_type": "fragment"
    }
   },
   "source": [
    "Resulta que cada motor pueden pensarse como sesiones independientes de Python. Aun cuando el modulo exita en el controlador, no existe en los motores. Tenemos que explicitamente importarlo:"
   ]
  },
  {
   "cell_type": "code",
   "execution_count": 24,
   "metadata": {
    "collapsed": false,
    "slideshow": {
     "slide_type": "fragment"
    }
   },
   "outputs": [],
   "source": [
    "with dview.sync_imports():\n",
    "    import numpy"
   ]
  },
  {
   "cell_type": "markdown",
   "metadata": {
    "collapsed": true,
    "slideshow": {
     "slide_type": "subslide"
    }
   },
   "source": [
    "¿Como tendriamos que modificar nuestra funcion?"
   ]
  },
  {
   "cell_type": "code",
   "execution_count": 27,
   "metadata": {
    "collapsed": true,
    "slideshow": {
     "slide_type": "fragment"
    }
   },
   "outputs": [],
   "source": [
    "def mc_pi(n):\n",
    "    count = 0.\n",
    "    for i in range(n):\n",
    "        x = np.random.random()\n",
    "        y = np.random.random()\n",
    "        if (x**2+y**2)<=1:\n",
    "            count += 1\n",
    "    return count/n"
   ]
  },
  {
   "cell_type": "markdown",
   "metadata": {
    "slideshow": {
     "slide_type": "fragment"
    }
   },
   "source": [
    "El error indica cual es el cambio que tenemos que realizar"
   ]
  },
  {
   "cell_type": "code",
   "execution_count": 28,
   "metadata": {
    "collapsed": false,
    "slideshow": {
     "slide_type": "fragment"
    }
   },
   "outputs": [
    {
     "name": "stdout",
     "output_type": "stream",
     "text": [
      "1 loop, best of 3: 224 ms per loop\n"
     ]
    }
   ],
   "source": [
    "%timeit -n1 dview.map_sync(mc_pi,[250000]*4)"
   ]
  },
  {
   "cell_type": "markdown",
   "metadata": {
    "slideshow": {
     "slide_type": "subslide"
    }
   },
   "source": [
    "Tambien es posible importar el modulo dentro de la funcion:"
   ]
  },
  {
   "cell_type": "code",
   "execution_count": 212,
   "metadata": {
    "collapsed": true,
    "slideshow": {
     "slide_type": "fragment"
    }
   },
   "outputs": [],
   "source": [
    "def mc_pi_1(n):\n",
    "    import numpy as np\n",
    "    count = 0.\n",
    "    for i in range(n):\n",
    "        x = np.random.random()\n",
    "        y = np.random.random()\n",
    "        if (x**2+y**2)<=1:\n",
    "            count += 1\n",
    "    return count/n"
   ]
  },
  {
   "cell_type": "code",
   "execution_count": 213,
   "metadata": {
    "collapsed": false,
    "slideshow": {
     "slide_type": "fragment"
    }
   },
   "outputs": [
    {
     "data": {
      "text/plain": [
       "[0.78554, 0.785084, 0.7858, 0.784172]"
      ]
     },
     "execution_count": 213,
     "metadata": {},
     "output_type": "execute_result"
    }
   ],
   "source": [
    "dview.map_sync(mc_pi_1,[250000]*4)"
   ]
  },
  {
   "cell_type": "markdown",
   "metadata": {
    "slideshow": {
     "slide_type": "slide"
    }
   },
   "source": [
    "# Tarea\n",
    "\n",
    "Considerar los siguientes codigos que aproximan el valor de $\\pi$ usando el metodo de Monte Carlo:"
   ]
  },
  {
   "cell_type": "code",
   "execution_count": 75,
   "metadata": {
    "collapsed": true,
    "slideshow": {
     "slide_type": "fragment"
    }
   },
   "outputs": [],
   "source": [
    "def mc_pi_serial(n):\n",
    "    count = 0.\n",
    "    for i in range(n):\n",
    "        x = np.random.random()\n",
    "        y = np.random.random()\n",
    "        if (x**2+y**2)<=1:\n",
    "            count += 1\n",
    "    return count/n\n",
    "\n",
    "def mc_pi_serial_map(n):\n",
    "    xy=np.random.random((n,2))\n",
    "    dts=map(np.linalg.norm,xy)\n",
    "    return np.sum(np.count_nonzero(np.less(dts,1.)))/np.float(n)\n",
    "\n",
    "def mc_pi_numpy(n):\n",
    "    xy=np.random.random((n,2))\n",
    "    dts=np.linalg.norm(xy,axis=1)\n",
    "    return np.sum(np.count_nonzero(np.less(dts,1.)))/np.float(n)"
   ]
  },
  {
   "cell_type": "markdown",
   "metadata": {
    "slideshow": {
     "slide_type": "subslide"
    }
   },
   "source": [
    "y sus respectivos tiempos de ejecucion"
   ]
  },
  {
   "cell_type": "code",
   "execution_count": 76,
   "metadata": {
    "collapsed": false,
    "slideshow": {
     "slide_type": "fragment"
    }
   },
   "outputs": [
    {
     "name": "stdout",
     "output_type": "stream",
     "text": [
      "3.141228\n",
      "3.141288\n",
      "3.140432\n",
      "1 loop, best of 3: 467 ms per loop\n"
     ]
    }
   ],
   "source": [
    "%%timeit -n1\n",
    "est_pi = mc_pi_serial(10**6)\n",
    "print 4*est_pi"
   ]
  },
  {
   "cell_type": "code",
   "execution_count": 77,
   "metadata": {
    "collapsed": false,
    "slideshow": {
     "slide_type": "fragment"
    }
   },
   "outputs": [
    {
     "name": "stdout",
     "output_type": "stream",
     "text": [
      "3.1395\n",
      "3.142032\n",
      "3.143472\n",
      "1 loop, best of 3: 5.02 s per loop\n"
     ]
    }
   ],
   "source": [
    "%%timeit -n1\n",
    "est_pi = mc_pi_serial_map(10**6)\n",
    "print 4*est_pi"
   ]
  },
  {
   "cell_type": "code",
   "execution_count": 78,
   "metadata": {
    "collapsed": false,
    "slideshow": {
     "slide_type": "fragment"
    }
   },
   "outputs": [
    {
     "name": "stdout",
     "output_type": "stream",
     "text": [
      "3.141584\n",
      "3.140684\n",
      "3.1419\n",
      "1 loop, best of 3: 40 ms per loop\n"
     ]
    }
   ],
   "source": [
    "%%timeit -n1\n",
    "est_pi = mc_pi_numpy(10**6)\n",
    "print 4*est_pi"
   ]
  },
  {
   "cell_type": "markdown",
   "metadata": {
    "slideshow": {
     "slide_type": "subslide"
    }
   },
   "source": [
    "1. En cada uno de ellos identificar la parte del codigo con el mayor costo computacional\n",
    "2. Explicar porque el tiempo de ejecucion de cada uno es significativamente distinto\n",
    "3. Paralelizar cada uno de ellos directamente usando `DirectView` y comparar los resultados entre ellos, cuantificando el resultado del tiempo de ejecucion como funcion del numero de motores usados"
   ]
  }
 ],
 "metadata": {
  "kernelspec": {
   "display_name": "Python [default]",
   "language": "python",
   "name": "python2"
  },
  "language_info": {
   "codemirror_mode": {
    "name": "ipython",
    "version": 2
   },
   "file_extension": ".py",
   "mimetype": "text/x-python",
   "name": "python",
   "nbconvert_exporter": "python",
   "pygments_lexer": "ipython2",
   "version": "2.7.12"
  }
 },
 "nbformat": 4,
 "nbformat_minor": 0
}
